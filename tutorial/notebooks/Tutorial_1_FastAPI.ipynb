{
  "nbformat": 4,
  "nbformat_minor": 0,
  "metadata": {
    "colab": {
      "name": "Untitled0.ipynb",
      "provenance": [],
      "collapsed_sections": []
    },
    "kernelspec": {
      "name": "python3",
      "display_name": "Python 3"
    },
    "language_info": {
      "name": "python"
    }
  },
  "cells": [
    {
      "cell_type": "markdown",
      "source": [
        "# Introduction to FastAPI, asyncio, and HELAO"
      ],
      "metadata": {
        "id": "7Ch6agWNeBFY"
      }
    },
    {
      "cell_type": "code",
      "source": [
        "!pip install uvicorn\n",
        "!pip install fastapi\n",
        "!pip install wait4it"
      ],
      "metadata": {
        "id": "NXR7fW-DWbn4"
      },
      "execution_count": null,
      "outputs": []
    },
    {
      "cell_type": "markdown",
      "source": [
        "# Imports \n",
        "\n",
        "The first step of this tutorial is to import some key python packages. They are as follows:\n",
        "\n",
        "*   fastapi: allows easy construction of web APIs in python.\n",
        "*   uvicorn: a package for hosting apps on servers.\n",
        "*   requests: allows us to remotely interface with the functions of an app -- literally to make requests of a server.\n",
        "*   asyncio: critical for all but the simplest server programming; enables a program to perform multiple concurrent actions in a single thread.\n",
        "*   json: simple encoding of python lists and dictionaries as strings.\n",
        "*   time: time.sleep() is used here to simulate any device functions that might take some time to complete.\n",
        "\n",
        "\n",
        "\n",
        "\n"
      ],
      "metadata": {
        "id": "uxlP7th7ejbG"
      }
    },
    {
      "cell_type": "code",
      "execution_count": 4,
      "metadata": {
        "id": "qczeNJk-BrW0"
      },
      "outputs": [],
      "source": [
        "#these are the key imports\n",
        "from fastapi import FastAPI\n",
        "import uvicorn\n",
        "import requests\n",
        "import asyncio\n",
        "import json\n",
        "import time\n",
        "###########################\n",
        "\n",
        "import nest_asyncio\n"
      ]
    },
    {
      "cell_type": "markdown",
      "source": [
        "# Basic Server Hosting\n",
        "\n",
        "Below is a very simple example of a single function hosted on a server with fastAPI and uvicorn. Evaluate the cell below to start the server. This block of code has a few features that we will see with each of our fastapi-uvicorn servers:\n",
        "\n",
        "*   at the top, the instantiation of a FastAPI() object to contain the web API;\n",
        "*   below that, one or more normal python methods, with a body, return statement, and possibly one or more function parameters;\n",
        "*   just above one or more of those functions, function decorators to add those functions to the app -- these call one of the HTTP request methods, such as \"get\" or \"post\", and specify a unique endpoint of the app as a string;\n",
        "*   at the bottom, a call to uvicorn.run() specifying the URL and port on which to run the app. \n",
        "\n",
        "It's possible worth saying a few words about URLs and ports. You will generally have a few options for specifying an IP address as your URL. Firstly, you can use 127.0.0.1, which, called the loopback address, does not even expose your server to the local network. This is good for testing, as it is the same for every device (including whatever machine is remotely running this colab notebook), and cannot be accessed from another machine by mistake, and it is what we will use exclusively for this tutorial. Another option, when running servers locally, would be to use your device's local IP, assigned by your router. This usually begins with 192.168. It can be found on windows by running the command \"ipconfig\" in command prompt. Finally, you can expose your server to the web by using your device's global IP address.\n",
        "\n",
        "Choice of port is a bit simpler -- it can basically be any integer below a certain size, though using 4 or 5 digits reduce the likelihood that you will try to use a port that is already being used by your computer."
      ],
      "metadata": {
        "id": "ffRLUmHOjFhp"
      }
    },
    {
      "cell_type": "code",
      "source": [
        "app = FastAPI() #define the app\n",
        "\n",
        "@app.get(\"/hello\") #function decorator adds function to the app\n",
        "def hello(s: str):\n",
        "    return {'greeting':f'hello {s}'}\n",
        "\n",
        "nest_asyncio.apply() #necessary to make this app compatible with a jupyter notebook\n",
        "\n",
        "uvicorn.run(app, host=\"127.0.0.1\", port=5000) #uvicorn hosts the app as a server"
      ],
      "metadata": {
        "id": "Ro5xQVJpreLi"
      },
      "execution_count": null,
      "outputs": []
    },
    {
      "cell_type": "markdown",
      "source": [
        "After running that app, you may notice that the cell it is hosted in will not stop evaluating, and you are unable to do anything else. In the menu above, press Runtime -> Interrupt execution or press the cell's button to interrupt it, shutting down the server and allowing you to continue to use this notebook. When writing servers normally, we are content to launch them in a terminal window, and let them run as the main process of that terminal window while we run other code elsewhere. For the purposes of this tutorial, we wanted to keep everything in a single notebook. The code below will enable us to do that (how it works is not important) by starting each server as a new process. Evaluate the cell below and, for the rest of the tutorial only, run each server with\n",
        "\n",
        "    start_api(app, host, port)\n",
        "\n",
        "in place of \n",
        "\n",
        "    uvicorn.run(app, host, port)\n"
      ],
      "metadata": {
        "id": "DjT0fcD1jWWZ"
      }
    },
    {
      "cell_type": "code",
      "source": [
        "#this code is necessary to make FastAPI and uvicorn work properly on colab\n",
        "#it should be ignored\n",
        "#adapted from https://github.com/David-Lor/FastAPI_LightningTalk-Notebook/blob/master/FastAPI.ipynb\n",
        "import fastapi\n",
        "from multiprocessing import Process\n",
        "from wait4it import wait_for\n",
        "\n",
        "server_processes = {}\n",
        "\n",
        "def run(app: fastapi.applications.FastAPI, host: str, port: int):\n",
        "    uvicorn.run(app=app,host=host,port=port)\n",
        "\n",
        "def start_api(app: fastapi.applications.FastAPI, host: str, port: int):\n",
        "    global server_processes\n",
        "    if port in server_processes.keys():\n",
        "        server_processes[port].terminate()\n",
        "        del server_processes[port]\n",
        "    server_processes[port] = Process(target=run,args=(app,host,port),daemon=True)\n",
        "    server_processes[port].start()\n",
        "    wait_for(port=port)\n"
      ],
      "metadata": {
        "id": "VU4C-KXjWZCW"
      },
      "execution_count": 5,
      "outputs": []
    },
    {
      "cell_type": "markdown",
      "source": [
        "Ok, now this is the same app as above, but this time run in a way that is compatible with this colab notebook. Start the server and try to make some requests of it with the code below."
      ],
      "metadata": {
        "id": "FoQvJK28msC8"
      }
    },
    {
      "cell_type": "code",
      "source": [
        "app = FastAPI()\n",
        "\n",
        "@app.get(\"/hello\")\n",
        "def hello(s: str):\n",
        "    return {'greeting':f'hello {s}'}\n",
        "\n",
        "start_api(app,\"127.0.0.1\",5000)"
      ],
      "metadata": {
        "id": "QcWSgcymq7P-"
      },
      "execution_count": null,
      "outputs": []
    },
    {
      "cell_type": "code",
      "source": [
        "#res = requests.get(\"http://127.0.0.1:5000/hello\",params=dict(s=\"jack\"))\n",
        "#res\n",
        "#res.json()"
      ],
      "metadata": {
        "id": "Sq_Xc3IpWaKg"
      },
      "execution_count": null,
      "outputs": []
    },
    {
      "cell_type": "markdown",
      "source": [
        "As you can see, the request takes the URL of the API endpoing as a string, and also accepts a dictionary of parameters to pass to the function. It returns a \"response object\", which by default shows the HTTP status code that the request got back from the server. Calling the \".json()\" method of this response object gives you the actual return statement of the function.\n",
        "\n"
      ],
      "metadata": {
        "id": "UDdhcEOkonkR"
      }
    },
    {
      "cell_type": "markdown",
      "source": [
        "# FastAPI for science\n",
        "\n",
        "Now to demonstrate how we might use a server to host a scientific instrument. Below is an API for a simulated motor. It has two functions, one which moves the motor to a given coordinate and one which returns the current location of the motor. Turn it on and try moving it around a little bit!"
      ],
      "metadata": {
        "id": "s0T1nXadPorX"
      }
    },
    {
      "cell_type": "code",
      "source": [
        "coordinates = [0,0,0] #3-dimensional position of an imaginary motorized stage\n",
        "\n",
        "motor_app = FastAPI()\n",
        "\n",
        "@motor_app.get(\"/move\")\n",
        "def move(loc: list):\n",
        "  global coordinates\n",
        "  if not all(isinstance(i,int) or isinstance(i,float) for i in loc): #loc must be a list of 3 numbers\n",
        "    raise ValueError(\"coordinates were not properly specified\")\n",
        "  time.sleep(5) #function call to the API of the motor would go here, instead we just simulate the time it takes it to move.\n",
        "  coordinates = loc\n",
        "  return {'position': coordinates}\n",
        "\n",
        "@motor_app.get(\"/getPos\")\n",
        "def getPos():\n",
        "  #function call to the API of the motor would go here\n",
        "  return {'position': coordinates}\n",
        "\n",
        "start_api(motor_app,\"127.0.0.1\",5001)"
      ],
      "metadata": {
        "id": "-oQOT1zEzHWC"
      },
      "execution_count": null,
      "outputs": []
    },
    {
      "cell_type": "code",
      "source": [
        "#try to control the motor here"
      ],
      "metadata": {
        "id": "X2NHWLQkS4W9"
      },
      "execution_count": null,
      "outputs": []
    },
    {
      "cell_type": "markdown",
      "source": [
        "You should notice pretty quickly that sending locations to the server is not working. That's because, when making the request, the python has to convert the parameters you send into HTML, and HTML has no equivalent to lists or dictionaries in python. In order to properly send these data types, we need to encode them in some way, and we usually do this with json. Try using json.dumps() to encode the list as a string when making the request, and add json.loads() within the motor function to decode it when it is received."
      ],
      "metadata": {
        "id": "-QJ-5hxoWAJV"
      }
    },
    {
      "cell_type": "markdown",
      "source": [
        "Now it's your turn to write a server from scratch!\n",
        "\n",
        "Below I have a driver class for a simulated potentiostat, and the beginnings of a server to make it available to the network. Add the necessary functions to the server."
      ],
      "metadata": {
        "id": "iIlKR53frJvG"
      }
    },
    {
      "cell_type": "code",
      "source": [
        "datafuction\n",
        "\n",
        "class potentiostat:\n",
        "  \n",
        "  def _init_():\n",
        "    pass\n",
        "\n",
        "  def measureVoltage(Vmin:float,Vmax:float,t:float):\n",
        "    #\n",
        "    return{'data':'I-V data'}\n",
        "\n",
        "  def measureCurrents(Is:list,dt:float):\n",
        "    #\n",
        "    return{'data':'I-V data'}\n",
        "\n",
        "  def voltage(): #get current voltage\n",
        "    #\n",
        "    return {'data': f'current voltage at {time.time()}'}\n",
        "\n",
        "  def current(): #get current current\n",
        "    #\n",
        "    return {'data': f'current current at {time.time()}'}\n",
        "\n",
        "potentiostat_app = FastAPI()\n",
        "\n",
        "@potentiostat_app.on_event(\"startup\")\n",
        "async def start():\n",
        "    p = potentiostat()\n",
        "\n"
      ],
      "metadata": {
        "id": "jsMuXEpkiT7-"
      },
      "execution_count": null,
      "outputs": []
    },
    {
      "cell_type": "code",
      "source": [
        ""
      ],
      "metadata": {
        "id": "JGoTz60Stt8u"
      },
      "execution_count": null,
      "outputs": []
    },
    {
      "cell_type": "markdown",
      "source": [
        "# Basic Asynchronous Programming\n",
        "\n",
        "Ok, so now hopefully you understand the basics of writing and using servers with fastapi and uvicorn, and can see how these can be used to make the functions of experimental devices available on a network. Ultimately, we are interested in showing you how we script multiple servers together in HELAO, and that requires talking about some more advanced concepts that are central to writing web servers. Asynchronous programming can be tricky to get the hang of, and a full introduction is beyond the scope of this workshop, but we hope to familiarize you with the basics here.\n",
        "\n",
        "There are two key words that you need to understand: \"async\" and \"await\". The keyword \"async\" is used as part of a function definiton to designate a function as asynchronous. The \"await\" keyword is then used to call asynchronous functions. The rules are that every function defined with the async keyword must be called with the await keyword, and every function that contains an await keyword must be defined with the async keyword.\n",
        "\n",
        "But what does an asynchronous function actually do? It is hard to explain, but basically, when your code hits an \"await\" statement, it reads that as, \"I can go do other things while waiting for this to complete.\" What \"other things\" means in this context is complicated -- the code isn't going to skip that line, for example -- but in the context of our servers, it means that the server is free to process other requests while one request is running.\n",
        "\n"
      ],
      "metadata": {
        "id": "r08j4B5CtZvi"
      }
    },
    {
      "cell_type": "markdown",
      "source": [
        "This is tricky to describe without showing an example. So, to start, let's try to make the motor server from before asynchronous. A motor typically takes several seconds to move from one postion to another. With the code as we wrote it previously, the server will not respond to any requests received while the \"motor\" is in motion. The goal here is to rewrite the server so that is able to respond while the \"motor\" is moving. We don't want the server to allows a second user to change the motion of the \"motor\" once it has already started, but we do want to allows them to make the request, and notify them that the \"motor\" is not available."
      ],
      "metadata": {
        "id": "fQ1jqluB6uFO"
      }
    },
    {
      "cell_type": "code",
      "source": [
        "coordinates = [0,0,0] #3-dimensional position of an imaginary motorized stage\n",
        "\n",
        "motor_app = FastAPI()\n",
        "\n",
        "@motor_app.get(\"/move\")\n",
        "def move(loc: str):\n",
        "  loc = json.loads(loc)\n",
        "  if not all(isinstance(i,int) or isinstance(i,float) for i in loc): #loc must be a list of 3 numbers\n",
        "    raise ValueError(\"coordinates were not properly specified\")\n",
        "    time.sleep(5) #function call to the API of the motor would go here, instead we just simulate the time it takes it to move.\n",
        "  coordinates = loc\n",
        "  return {'position': coordinates}\n",
        "\n",
        "@motor_app.get(\"/getPos\")\n",
        "def getPos():\n",
        "  #function call to the API of the motor would go here\n",
        "  return {'position': coordinates}\n",
        "\n",
        "start_api(motor_app,\"127.0.0.1\",5001)"
      ],
      "metadata": {
        "id": "qJJHHuJMytQJ"
      },
      "execution_count": null,
      "outputs": []
    },
    {
      "cell_type": "markdown",
      "source": [
        "Unfortunately, there is no easy way to make two requests at once from a colab notebook, so we can't test whether this server works as expected, but you should be able to see that it handles single requests exactly as it did before."
      ],
      "metadata": {
        "id": "emjgJkjQ7DzN"
      }
    },
    {
      "cell_type": "markdown",
      "source": [
        "# The HELAO orchestrator\n",
        "\n",
        "The server below is a simplified version of the orchestratator we use to run our experiments. Its function is to serve as a central point for all elements of an experiment. We send it lists of functions to perform, and it distributes those functions to the proper device servers and runs them one at a time. Overtop of that, we can then build in fancier features, such as automated data management, visualization, active learning, etc...\n",
        "\n"
      ],
      "metadata": {
        "id": "Pn58ImjEO9u5"
      }
    },
    {
      "cell_type": "code",
      "source": [
        "#primitive HELAO-style orchestrator\n",
        "\n",
        "orchestrator = FastAPI()\n",
        "\n",
        "#tell the orchestrator where to find the servers it needs to communicate with.\n",
        "url_table = {'motor':\"http://127.0.0.1:5001\",'potentiostat':\"http://127.0.0.1:5003\"}\n",
        "\n",
        "#main endpoint of orchestrator -- receives experiments to be performed from user\n",
        "@orchestrator.post(\"/addExperiment\")\n",
        "async def sendMeasurement(experiment: str):\n",
        "    await experiment_queue.put(experiment)\n",
        "\n",
        "#pulls data from the orchestrator from whatever experiments have been completed so far\n",
        "@orchestrator.get(\"/getData\")\n",
        "def getData():\n",
        "    global data\n",
        "    return data\n",
        "    \n",
        "#infinite loop which runs as long as the server is up and performs experiments one at a time.\n",
        "async def scheduler():\n",
        "    while True:\n",
        "        experiment = await experiment_queue.get()\n",
        "        await doMeasurement(experiment)\n",
        "\n",
        "#send the appropriate request to the appropriate server, and collect the results\n",
        "async def doMeasurement(experiment: str):\n",
        "    global loop,data,exp_count\n",
        "    experiment = json.loads(experiment)\n",
        "    data[f'experiment_{exp_count}'] = {}\n",
        "    for item in experiment['soe']:\n",
        "        server,action_str = item.split('/') #pull proper endpoint and parameter values out of the experiment dictionary\n",
        "        params = experiment['params'][action_str]\n",
        "        action = action_str.split('_')[0]\n",
        "        url = url_table[server]\n",
        "        data[f'experiment_{exp_count}'][action_str] = 'here'\n",
        "        try:\n",
        "            res = await loop.run_in_executor(None,lambda x: requests.get(x,params=params).json(),\n",
        "                                             f\"{url}/{action}\") #perform experimental function\n",
        "            data[f'experiment_{exp_count}'][action_str] = res #append data from function call to global database\n",
        "        except Exception as e:\n",
        "            data[f'experiment_{exp_count}'][action_str] = str(e)\n",
        "    exp_count += 1\n",
        "\n",
        "#on server startup, initialize some useful global objects\n",
        "@orchestrator.on_event(\"startup\")\n",
        "def memory():\n",
        "    global experiment_queue, task, loop, data, exp_count\n",
        "    experiment_queue = asyncio.Queue()\n",
        "    task = asyncio.create_task(scheduler())\n",
        "    loop = asyncio.get_event_loop()\n",
        "    data = {}\n",
        "    exp_count = 0\n",
        "    \n",
        "start_api(orchestrator, \"127.0.0.1\", 5003) "
      ],
      "metadata": {
        "id": "dW0W-g-4CDeo"
      },
      "execution_count": null,
      "outputs": []
    },
    {
      "cell_type": "markdown",
      "source": [
        "Here we can use the two dummy driver servers we have written to send fake experiments to the orchestrator. These experiments take the form of dictionaries with two defined keys. The first key, \"soe\", will contain a list of functions to perform, formatted "
      ],
      "metadata": {
        "id": "D0jl88zSGilx"
      }
    },
    {
      "cell_type": "code",
      "source": [
        "soe = ['motor/move_1','motor/move_2']\n",
        "params = {'move_1':{'loc':json.dumps([5,5,5])},'move_2':{'loc':json.dumps([0,0,0])}}\n",
        "requests.post(\"http://127.0.0.1:5003/addExperiment\",params=dict(experiment=json.dumps({'soe':soe,'params':params})))"
      ],
      "metadata": {
        "id": "2a4cPGK-SN0l"
      },
      "execution_count": null,
      "outputs": []
    },
    {
      "cell_type": "code",
      "source": [
        "requests.get(\"http://127.0.0.1:5003/getData\",params=None).json()"
      ],
      "metadata": {
        "id": "DWDPFD4PdvVn"
      },
      "execution_count": null,
      "outputs": []
    },
    {
      "cell_type": "code",
      "source": [
        ""
      ],
      "metadata": {
        "id": "tjmB1IaEkS4B"
      },
      "execution_count": null,
      "outputs": []
    }
  ]
}
